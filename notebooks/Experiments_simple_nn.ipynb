{
 "cells": [
  {
   "cell_type": "markdown",
   "metadata": {},
   "source": [
    "\n",
    "## Libtorch Source code.\n",
    "\n",
    "```python\n",
    "git clone https://github.com/pytorch/pytorch.git\n",
    "git submodule update --init --recursive\n",
    "\n",
    "cd pytorch\n",
    "# On Linux:\n",
    "python setup.py build\n",
    "# On macOS (may need to prefix with `MACOSX_DEPLOYMENT_TARGET=10.9 CC=clang CXX=clang++` when using anaconda)\n",
    "LDSHARED=\"cc -dynamiclib -undefined dynamic_lookup\" python setup.py build\n",
    "\n",
    "cd ..; mkdir -p build; cd build\n",
    "cmake .. -DPYTHON_EXECUTABLE:FILEPATH=$(which python)  # helpful if you use anaconda\n",
    "make -j\n",
    "```\n"
   ]
  },
  {
   "cell_type": "markdown",
   "metadata": {},
   "source": [
    "## Tensors:\n",
    "\n",
    "In mathematics, a tensor is a geometric object that maps in a multi-linear manner geometric vectors, scalars, and other tensors to a resulting tensor. Vectors and scalars which are often used in elementary physics and engineering applications, are considered as the simplest tensors. Vectors from the dual space of the vector space, which supplies the geometric vectors, are also included as tensors.[1] Geometric in this context is chiefly meant to emphasize independence of any selection of a coordinate system.[more](https://en.wikipedia.org/wiki/Tensor)\n",
    "\n",
    "In simple terms, **Tensor** is an arrangment of numbers in different dimentions. For example\n",
    "<br>\n",
    "- Vectors/Arrays are 1D-Tensor.\n",
    "- Matrix with rows and coulmns are 2D-Tensor.\n",
    "- RGB image is an example of 3D-Tensor.  \n",
    "\n",
    "Similarly we can have 4D-Tensor, 5D-Tensor ..... N-D-Tensor etc.\n",
    "\n",
    "Throught the rest of our discussion we will see how we can use **Pytorch's python and C++ frontend** to create these **Tensors** and how we can playaround and work with Pythorch API's to implement a simple Neural net to most complicated ones."
   ]
  },
  {
   "cell_type": "markdown",
   "metadata": {},
   "source": [
    "## Tensor creation using Pytorch \n",
    "\n",
    "### using Python frontend:\n",
    "\n",
    "\n",
    "```python\n",
    "# First, import PyTorch\n",
    "import torch\n",
    "\n",
    "### Generate some data\n",
    "torch.manual_seed(7) # Set the random seed so things are predictable\n",
    "\n",
    "# Features are 5 random normal variables\n",
    "features = torch.randn((1, 5))\n",
    "print(features)\n",
    "\n",
    "############# OUTPUT #################\n",
    "\n",
    "tensor([[-0.1468,  0.7861,  0.9468, -1.1143,  1.6908]])\n",
    "\n",
    "```"
   ]
  },
  {
   "cell_type": "markdown",
   "metadata": {},
   "source": [
    "### using C++ frontend:\n",
    "```cpp\n",
    "#include <torch/torch.h>\n",
    "#include <ATen/Context.h>\n",
    "#include <iostream>\n",
    "\n",
    "int main()\n",
    "{\n",
    "  // Seed for Random number\n",
    "  torch::manual_seed(9);\n",
    "  torch::Tensor features = torch::rand({1, 5});\n",
    "  std::cout << \"features = \" << features << \"\\n\";\n",
    "}\n",
    "\n",
    "################ OUTPUT #######################\n",
    "\n",
    "features =  0.6558  0.3020  0.4799  0.7774  0.9180\n",
    "[ Variable[CPUFloatType]{1,5} ]\n",
    "\n",
    "```\n",
    "\n",
    "As we can see we include the headerfiles which is similar to importing a module in python.  \n",
    "**NOTE**: We are using similar API's **manual_seed() and rand()** to generate the Tensor. This is a pattern which we will see and can be used as and advantage to convert our python code to c++ or viceversa."
   ]
  },
  {
   "cell_type": "markdown",
   "metadata": {},
   "source": [
    "## Get the Shape of Tensor\n",
    "\n",
    "### Using Python:\n",
    "\n",
    "Pytoch syntax is pretty similar to Numpy.\n",
    "\n",
    "```python\n",
    "print(features.shape)\n",
    "print(features.shape[0])\n",
    "print(features.shape[1])\n",
    "\n",
    "############# OUTPUT #################\n",
    "\n",
    "torch.Size([1, 5])\n",
    "1\n",
    "5\n",
    "\n",
    "```\n",
    "\n",
    "### Using C++:\n",
    "\n",
    "```cpp\n",
    "#include <torch/torch.h>\n",
    "#include <ATen/Context.h>\n",
    "#include <iostream>\n",
    "\n",
    "int main()\n",
    "{\n",
    "  // Seed for Random number\n",
    "  torch::manual_seed(9);\n",
    "  torch::Tensor features = torch::rand({1, 5});\n",
    "  std::cout << \"features shape = \" << features.sizes() << \"\\n\";\n",
    "  std::cout << \"features shape rows = \" << features.sizes()[0] << \"\\n\";\n",
    "  std::cout << \"features shape col = \" << features.size(1) << \"\\n\";\n",
    "\n",
    "}\n",
    "\n",
    "################ OUTPUT #######################\n",
    "\n",
    "features shape = [1, 5]\n",
    "features shape rows = 1\n",
    "features shape col = 5\n",
    "\n",
    "```\n",
    "\n",
    "Notice the different ways/methods of accessing the indexes of a Tensors.\n",
    "```cpp\n",
    "  // Numpy like indexing style.\n",
    "  std::cout << \"features shape rows = \" << features.sizes()[0] << \"\\n\";\n",
    "  // C++ way of accessing the indexes.\n",
    "  std::cout << \"features shape col = \" << features.size(1) << \"\\n\";\n",
    "```\n",
    "\n",
    "In the rest of the of the discussion, we use the below version as our choice to access the shape of a **Tensor**.\n",
    "```cpp\n",
    "  std::cout << \"features shape col = \" << features.size(1) << \"\\n\";\n",
    "```\n",
    "\n",
    "\n"
   ]
  },
  {
   "cell_type": "markdown",
   "metadata": {},
   "source": [
    "## Simple Neural Net.\n",
    "\n",
    "Let us create a simple Neual Net from scratch using Pytorch. \n",
    "\n",
    "<img src=\"assets/simple_neuron.png\" width=400px>\n",
    "\n",
    "Mathematically this looks like: "
   ]
  },
  {
   "cell_type": "markdown",
   "metadata": {},
   "source": [
    "$$\n",
    "\\Large\n",
    "\\begin{align}\n",
    "y &= f(w_1 x_1 + w_2 x_2 + b) \\\\\n",
    "y &= f\\left(\\sum_i w_i x_i +b \\right)\n",
    "\\end{align}\n",
    "$$\n",
    "\n",
    "The above mathemetical formula for $h$ can also be written in matrix form as follows.\n",
    "\n",
    "$$\n",
    "\\Large\n",
    "h = \\begin{bmatrix}\n",
    "x_1 \\, x_2 \\cdots  x_n\n",
    "\\end{bmatrix}\n",
    "\\cdot \n",
    "\\begin{bmatrix}\n",
    "           w_1 \\\\\n",
    "           w_2 \\\\\n",
    "           \\vdots \\\\\n",
    "           w_n\n",
    "\\end{bmatrix}\n",
    "$$"
   ]
  },
  {
   "cell_type": "markdown",
   "metadata": {},
   "source": [
    "### Using Python:"
   ]
  },
  {
   "cell_type": "code",
   "execution_count": 24,
   "metadata": {},
   "outputs": [],
   "source": [
    "# First, import PyTorch\n",
    "import torch"
   ]
  },
  {
   "cell_type": "code",
   "execution_count": 25,
   "metadata": {},
   "outputs": [],
   "source": [
    "def ActivationFunction(x):\n",
    "    \"\"\" Sigmoid activation function \n",
    "    \n",
    "        Arguments\n",
    "        ---------\n",
    "        x: torch.Tensor\n",
    "    \"\"\"\n",
    "    return 1/(1+torch.exp(-x))"
   ]
  },
  {
   "cell_type": "code",
   "execution_count": 26,
   "metadata": {},
   "outputs": [],
   "source": [
    "### Generate some data\n",
    "torch.manual_seed(7) # Set the random seed so things are predictable\n",
    "\n",
    "# Features are 5 random normal variables\n",
    "features = torch.randn((1, 5))\n",
    "# True weights for our data, random normal variables again\n",
    "weights = torch.randn_like(features)\n",
    "# and a true bias term\n",
    "bias = torch.randn((1, 1))"
   ]
  },
  {
   "cell_type": "code",
   "execution_count": 27,
   "metadata": {},
   "outputs": [
    {
     "name": "stdout",
     "output_type": "stream",
     "text": [
      "torch.Size([1, 5])\n",
      "1\n",
      "5\n"
     ]
    }
   ],
   "source": [
    "print(features.shape)\n",
    "print(features.shape[0])\n",
    "print(features.shape[1])"
   ]
  },
  {
   "cell_type": "code",
   "execution_count": 28,
   "metadata": {},
   "outputs": [
    {
     "data": {
      "text/plain": [
       "(torch.Size([1, 5]),\n",
       " torch.Size([1, 5]),\n",
       " torch.Size([1, 1]),\n",
       " tensor([[0.1595]]))"
      ]
     },
     "execution_count": 28,
     "metadata": {},
     "output_type": "execute_result"
    }
   ],
   "source": [
    "y = ActivationFunction(torch.sum(features * weights) + bias)\n",
    "features.shape, weights.shape, bias.shape, y"
   ]
  },
  {
   "cell_type": "code",
   "execution_count": 29,
   "metadata": {},
   "outputs": [
    {
     "data": {
      "text/plain": [
       "(torch.Size([1, 5]),\n",
       " torch.Size([1, 5]),\n",
       " torch.Size([1, 1]),\n",
       " tensor([[0.1595]]))"
      ]
     },
     "execution_count": 29,
     "metadata": {},
     "output_type": "execute_result"
    }
   ],
   "source": [
    "y = ActivationFunction((features*weights).sum() + bias)\n",
    "features.shape, weights.shape, bias.shape, y"
   ]
  },
  {
   "cell_type": "code",
   "execution_count": 30,
   "metadata": {},
   "outputs": [
    {
     "data": {
      "text/plain": [
       "tensor([[0.1595]])"
      ]
     },
     "execution_count": 30,
     "metadata": {},
     "output_type": "execute_result"
    }
   ],
   "source": [
    "y = ActivationFunction(torch.mm(features,weights.view(5,1)) + bias)\n",
    "y"
   ]
  },
  {
   "cell_type": "markdown",
   "metadata": {},
   "source": [
    "### Using C++:\n",
    "\n",
    "```cpp\n",
    "#include <torch/torch.h>\n",
    "#include <ATen/Context.h>\n",
    "#include <iostream>\n",
    "\n",
    "torch::Tensor ActivationFunction(const torch::Tensor &x)\n",
    "{\n",
    "  // Sigmoid function.\n",
    "  auto retVal = 1/(1+torch::exp(-x));\n",
    "  return retVal;\n",
    "}\n",
    "\n",
    "int main()\n",
    "{\n",
    "  // Seed for Random number\n",
    "  torch::manual_seed(9);\n",
    "  //at::manual_seed(9);\n",
    "\n",
    "  torch::Tensor features = torch::rand({1, 5});\n",
    "  std::cout << \"features = \" << features << \"\\n\";\n",
    "\n",
    "  auto weights = torch::randn_like(features);\n",
    "  std::cout << \"weights = \" << weights << \"\\n\";\n",
    "\n",
    "  auto bias = torch::randn({1,1});\n",
    "  std::cout << \"bias  =\" << bias << \"\\n\";\n",
    "\n",
    "  // There are multiple ways to get the same result. Here are the few of them.\n",
    "  // 1st way\n",
    "  auto y = ActivationFunction(torch::sum(features * weights) +bias);\n",
    "  std::cout << \"y using (\\\"torch::sum()\\\") = \" << y << \"\\n\";\n",
    "\n",
    "  // 2nd way\n",
    "  y = ActivationFunction((features * weights).sum() +bias);\n",
    "  std::cout << \"y using (\\\".sum()\\\") = \" << y << \"\\n\";\n",
    "\n",
    "  // 3rd and preferred way. Using Matrix multiplication.\n",
    "  y = ActivationFunction(torch::mm(features, weights.view({5,1}))+bias);\n",
    "  std::cout << \"y using (\\\"torch::mm().view()\\\") = \" << y << \"\\n\";\n",
    "\n",
    "  // Reshaping the tensor using reshape().\n",
    "  y = ActivationFunction(torch::mm(features, weights.reshape({5,1}))+bias);\n",
    "  std::cout << \"y using (\\\"torch.mm().reshape() \\\") = \" << y << \"\\n\";\n",
    "\n",
    "  // Reshaping the tensor using inplace resize_().\n",
    "  y = ActivationFunction(torch::mm(features, weights.resize_({5,1}))+bias);\n",
    "  std::cout << \"y using (\\\"torch.mm().resize_() \\\") = \" << y << \"\\n\";\n",
    "\n",
    "  std::cout << \"features shape = \" << features.sizes() << \"\\n\";\n",
    "  std::cout << \"features shape rows = \" << features.sizes()[0] << \"\\n\";\n",
    "  std::cout << \"features shape col = \" << features.size(1) << \"\\n\";\n",
    "  \n",
    "  return 0;\n",
    "}\n",
    "\n",
    "\n",
    "################ OUTPUT #######################\n",
    "\n",
    "features =  0.6558  0.3020  0.4799  0.7774  0.9180\n",
    "[ Variable[CPUFloatType]{1,5} ]\n",
    "    \n",
    "weights = -1.3316  0.4487 -0.2635  1.2342 -1.1583\n",
    "[ Variable[CPUFloatType]{1,5} ]\n",
    "    \n",
    "bias  =-1.7026\n",
    "[ Variable[CPUFloatType]{1,1} ]\n",
    "    \n",
    "y using (\"torch::sum()\") = 0.01 * 6.4732\n",
    "[ Variable[CPUFloatType]{1,1} ]\n",
    "    \n",
    "y using (\".sum()\") = 0.01 * 6.4732\n",
    "[ Variable[CPUFloatType]{1,1} ]\n",
    "    \n",
    "y using (\"torch::mm().view()\") = 0.01 * 6.4732\n",
    "[ Variable[CPUFloatType]{1,1} ]\n",
    "    \n",
    "y using (\"torch.mm().reshape() \") = 0.01 * 6.4732\n",
    "[ Variable[CPUFloatType]{1,1} ]\n",
    "    \n",
    "y using (\"torch.mm().resize_() \") = 0.01 * 6.4732\n",
    "[ Variable[CPUFloatType]{1,1} ]\n",
    "    \n",
    "features shape = [1, 5]\n",
    "features shape rows = 1\n",
    "features shape col = 5\n",
    "\n",
    "\n",
    "```"
   ]
  },
  {
   "cell_type": "markdown",
   "metadata": {},
   "source": [
    "## Stacked Neural Net.\n",
    "<img src='assets/multilayer_diagram_weights.png' width=450px>"
   ]
  },
  {
   "cell_type": "code",
   "execution_count": 34,
   "metadata": {},
   "outputs": [],
   "source": [
    "### Generate some data\n",
    "torch.manual_seed(9) # Set the random seed so things are predictable\n",
    "\n",
    "# Features are 3 random normal variables\n",
    "features = torch.randn((1, 3))\n",
    "\n",
    "# Define the size of each layer in our network\n",
    "n_input = features.shape[1]     # Number of input units, must match number of input features\n",
    "n_hidden = 2                    # Number of hidden units \n",
    "n_output = 1                    # Number of output units\n",
    "\n",
    "# Weights for inputs to hidden layer\n",
    "W1 = torch.randn(n_input, n_hidden)\n",
    "# Weights for hidden layer to output layer\n",
    "W2 = torch.randn(n_hidden, n_output)\n",
    "\n",
    "# and bias terms for hidden and output layers\n",
    "B1 = torch.randn((1, n_hidden))\n",
    "B2 = torch.randn((1, n_output))"
   ]
  },
  {
   "cell_type": "code",
   "execution_count": 35,
   "metadata": {},
   "outputs": [
    {
     "data": {
      "text/plain": [
       "tensor([[0.4684]])"
      ]
     },
     "execution_count": 35,
     "metadata": {},
     "output_type": "execute_result"
    }
   ],
   "source": [
    "h = ActivationFunction(torch.mm(features, W1) +B1)\n",
    "y = ActivationFunction(torch.mm(h, W2) + B2)\n",
    "y"
   ]
  },
  {
   "cell_type": "markdown",
   "metadata": {},
   "source": [
    "### Using C++\n",
    "```cpp\n",
    "#include <torch/torch.h>\n",
    "#include <ATen/Context.h>\n",
    "#include <iostream>\n",
    "\n",
    "torch::Tensor ActivationFunction(const torch::Tensor &x)\n",
    "{\n",
    "  // Sigmoid function.\n",
    "  auto retVal = 1/(1+torch::exp(-x));\n",
    "  return retVal;\n",
    "}\n",
    "\n",
    "\n",
    "int main()\n",
    "{\n",
    "  // Seed for Random number\n",
    "  torch::manual_seed(9);\n",
    "\n",
    "  torch::Tensor features = torch::rand({1, 3});\n",
    "  //auto features = torch::rand({1, 3});\n",
    "  std::cout << \"features = \" << features << \"\\n\";\n",
    "\n",
    "  // Define the size of each layer in our network\n",
    "  // Number of input units, must match number of input features\n",
    "  auto num_inputs = features.size(1);\n",
    "  // Number of hidden units\n",
    "  int num_hidden_layers = 2;\n",
    "  // Number of output units\n",
    "  int num_output = 1;\n",
    "\n",
    "\n",
    "  // Weights for inputs to hidden layer\n",
    "  auto W1 = torch::randn({num_inputs, num_hidden_layers});\n",
    "  std::cout << \"W1 = \" << W1.sizes() << \"\\n\";\n",
    "  // Weights for hidden layer to output layer\n",
    "  auto W2 = torch::randn({num_hidden_layers, num_output});\n",
    "  std::cout << \"W2 = \" << W2.sizes() << \"\\n\";\n",
    "\n",
    "  // and bias terms for hidden and output layers\n",
    "  auto B1 = torch::randn({1, num_hidden_layers});\n",
    "  std::cout << \"B1 = \" << B1.sizes() << \"\\n\";\n",
    "  auto B2 = torch::randn({1, num_output});\n",
    "  std::cout << \"B2 = \" << B2.sizes() << \"\\n\";\n",
    "\n",
    "\n",
    "  auto h = ActivationFunction(torch::mm(features, W1) + B1);\n",
    "  auto y = ActivationFunction(torch::mm(h, W2) + B2);\n",
    "  std::cout << \"y = \" << y << \"\\n\";\n",
    "  return 0;\n",
    "}\n",
    "\n",
    "################ OUTPUT #######################\n",
    "\n",
    "features =  0.6558  0.3020  0.4799\n",
    "[ Variable[CPUFloatType]{1,3} ]\n",
    "W1 = [3, 2]\n",
    "W2 = [2, 1]\n",
    "B1 = [1, 2]\n",
    "B2 = [1, 1]\n",
    "y =  0.6860\n",
    "[ Variable[CPUFloatType]{1,1} ]\n",
    "\n",
    "```"
   ]
  },
  {
   "cell_type": "markdown",
   "metadata": {},
   "source": [
    "### MNIST\n",
    "\n",
    "Download the mnist data using the [script](https://gist.github.com/goldsborough/6dd52a5e01ed73a642c1e772084bcd03)\n",
    "```\n",
    " sudo mkdir -p /opt/MNIST\n",
    " sudo python download_mnist.py -d /opt/MNIST/\n",
    "```"
   ]
  },
  {
   "cell_type": "code",
   "execution_count": 1,
   "metadata": {},
   "outputs": [],
   "source": [
    "# Import necessary packages\n",
    "\n",
    "%matplotlib inline\n",
    "%config InlineBackend.figure_format = 'retina'\n",
    "\n",
    "import numpy as np\n",
    "import torch\n",
    "\n",
    "import helper\n",
    "\n",
    "import matplotlib.pyplot as plt"
   ]
  },
  {
   "cell_type": "code",
   "execution_count": 2,
   "metadata": {},
   "outputs": [],
   "source": [
    "from torchvision import datasets, transforms\n",
    "\n",
    "# Define a transform to normalize the data\n",
    "transform = transforms.Compose([transforms.ToTensor(),\n",
    "                              transforms.Normalize((0.5,), (0.5,)),\n",
    "                              ])\n",
    "# Download and load the training data\n",
    "trainset = datasets.MNIST('~/.pytorch/MNIST_data/', download=True, train=True, transform=transform)\n",
    "trainloader = torch.utils.data.DataLoader(trainset, batch_size=64, shuffle=True)"
   ]
  },
  {
   "cell_type": "code",
   "execution_count": 4,
   "metadata": {},
   "outputs": [
    {
     "name": "stdout",
     "output_type": "stream",
     "text": [
      "<class 'torch.Tensor'>\n",
      "torch.Size([64, 1, 28, 28])\n",
      "torch.Size([64])\n"
     ]
    }
   ],
   "source": [
    "dataiter = iter(trainloader)\n",
    "images, labels = dataiter.next()\n",
    "print(type(images))\n",
    "print(images.shape)\n",
    "print(labels.shape)"
   ]
  },
  {
   "cell_type": "code",
   "execution_count": 5,
   "metadata": {},
   "outputs": [
    {
     "data": {
      "image/png": "[encoded data removed]",
      "text/plain": [
       "<Figure size 432x288 with 1 Axes>"
      ]
     },
     "metadata": {
      "image/png": {
       "height": 250,
       "width": 253
      },
      "needs_background": "light"
     },
     "output_type": "display_data"
    }
   ],
   "source": [
    "plt.imshow(images[1].numpy().squeeze(), cmap='Greys_r');"
   ]
  },
  {
   "cell_type": "code",
   "execution_count": 9,
   "metadata": {},
   "outputs": [],
   "source": [
    "## Solution\n",
    "def activation(x):\n",
    "    return 1/(1+torch.exp(-x))\n",
    "\n",
    "# Flatten the input images\n",
    "inputs = images.view(images.shape[0], -1)\n",
    "\n",
    "# Create parameters\n",
    "w1 = torch.randn(784, 256)\n",
    "b1 = torch.randn(256)\n",
    "\n",
    "w2 = torch.randn(256, 10)\n",
    "b2 = torch.randn(10)\n",
    "\n",
    "h = activation(torch.mm(inputs, w1) + b1)\n",
    "\n",
    "out = torch.mm(h, w2) + b2"
   ]
  },
  {
   "cell_type": "code",
   "execution_count": 10,
   "metadata": {},
   "outputs": [
    {
     "data": {
      "text/plain": [
       "torch.Size([64, 784])"
      ]
     },
     "execution_count": 10,
     "metadata": {},
     "output_type": "execute_result"
    }
   ],
   "source": [
    "inputs.shape"
   ]
  },
  {
   "cell_type": "code",
   "execution_count": 12,
   "metadata": {},
   "outputs": [
    {
     "name": "stdout",
     "output_type": "stream",
     "text": [
      "torch.Size([64, 10])\n",
      "torch.Size([64])\n"
     ]
    }
   ],
   "source": [
    "## Solution\n",
    "def SoftMax(x):\n",
    "    return torch.exp(x)/torch.sum(torch.exp(x), dim=1).view(-1, 1)\n",
    "\n",
    "probabilities = SoftMax(out)\n",
    "\n",
    "# Does it have the right shape? Should be (64, 10)\n",
    "print(probabilities.shape)\n",
    "# Does it sum to 1?\n",
    "print(probabilities.sum(dim=1).shape)"
   ]
  },
  {
   "cell_type": "markdown",
   "metadata": {},
   "source": [
    "## C++\n",
    "\n",
    "```cpp\n",
    "#include <torch/torch.h>\n",
    "#include <ATen/Context.h>\n",
    "#include <iostream>\n",
    "\n",
    "torch::Tensor ActivationFunction(const torch::Tensor &x)\n",
    "{\n",
    "  // Sigmoid function.\n",
    "  auto retVal = 1/(1+torch::exp(-x));\n",
    "  return retVal;\n",
    "}\n",
    "\n",
    "torch::Tensor SoftMax(const torch::Tensor &x)\n",
    "{\n",
    "  auto sum = torch::sum(torch::exp(x),1);\n",
    "  return torch::exp(x)/sum.view({-1, 1});\n",
    "}\n",
    "\n",
    "int main()\n",
    "{\n",
    "\n",
    "  // Download the MNIST data using the script present in,\n",
    "  // ../scripts/download_mnist.py\n",
    "  // Create a data loader for the MNIST dataset.\n",
    "  auto trainLoader = torch::data::make_data_loader(\n",
    "      torch::data::datasets::MNIST(\"/opt/MNIST/\").map(\n",
    "        torch::data::transforms::Stack<>()),\n",
    "      /*batch_size=*/64);\n",
    "\n",
    "  auto batch = std::begin(*trainLoader);\n",
    "\n",
    "  auto images = batch->data;\n",
    "  auto target = batch->target;\n",
    "  std::cout << \"images = \" << images.sizes() << \"\\n\";\n",
    "  std::cout << \"targets = \" << target.sizes() << \"\\n\";\n",
    "\n",
    "  // Seed for Random number\n",
    "  torch::manual_seed(9);\n",
    "\n",
    "  auto inputs = images.view({images.size(0),-1});\n",
    "  std::cout << \"inputs = \" << inputs.sizes() << \"\\n\";\n",
    "\n",
    "\n",
    "  // Create parameters\n",
    "  auto w1 = torch::randn({784, 256});\n",
    "  std::cout << \"w1 =\" << w1.sizes() << \"\\n\";\n",
    "  auto b1 = torch::randn({256});\n",
    "  std::cout << \"b1 =\" << b1.sizes() << \"\\n\";\n",
    "\n",
    "  auto w2 = torch::randn({256, 10});\n",
    "  std::cout << \"w2 =\" << w2.sizes() << \"\\n\";\n",
    "  auto b2 = torch::randn({10});\n",
    "  auto b2 = torch::randn({10});\n",
    "  std::cout << \"b2 =\" << b2.sizes() << \"\\n\";\n",
    "\n",
    "  auto h = ActivationFunction(torch::mm(inputs, w1) + b1);\n",
    "  std::cout << \"h =\" << h.sizes() << \"\\n\";\n",
    "  auto out = torch::mm(h, w2) + b2;\n",
    "  std::cout << \"out =\" << out.sizes() << \"\\n\";\n",
    "  //std::cout << \"out =\" << out << \"\\n\"; \n",
    "\n",
    "  auto pred = SoftMax(out);\n",
    "\n",
    "  std::cout << \"pred = \" << pred.sizes() << \"\\n\";\n",
    "  //  std::cout << \"pred = \" << pred << \"\\n\";\n",
    "\n",
    "  auto predSum = torch::sum(pred, 1);\n",
    "  std::cout << \"predsum shape = \" << predSum.sizes() << \"\\n\";\n",
    "  //std::cout << \"predsum = \" << predSum << \"\\n\";\n",
    "  return 0;\n",
    "}\n",
    "\n",
    "##################### OUTPUT ########################\n",
    "images = [64, 1, 28, 28]\n",
    "targets = [64]\n",
    "inputs = [64, 784]\n",
    "w1 =[784, 256]\n",
    "b1 =[256]\n",
    "w2 =[256, 10]\n",
    "b2 =[10]\n",
    "h =[64, 256]\n",
    "out =[64, 10]\n",
    "pred = [64, 10]\n",
    "predsum shape = [64]\n",
    "\n",
    "\n",
    "```"
   ]
  },
  {
   "cell_type": "code",
   "execution_count": null,
   "metadata": {},
   "outputs": [],
   "source": []
  }
 ],
 "metadata": {
  "kernelspec": {
   "display_name": "py37_django",
   "language": "python",
   "name": "py37_django"
  },
  "language_info": {
   "codemirror_mode": {
    "name": "ipython",
    "version": 3
   },
   "file_extension": ".py",
   "mimetype": "text/x-python",
   "name": "python",
   "nbconvert_exporter": "python",
   "pygments_lexer": "ipython3",
   "version": "3.7.1"
  }
 },
 "nbformat": 4,
 "nbformat_minor": 2
}
