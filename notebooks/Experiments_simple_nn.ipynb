{
 "cells": [
  {
   "cell_type": "markdown",
   "metadata": {},
   "source": [
    "## Tensors:\n",
    "\n",
    "In mathematics, a tensor is a geometric object that maps in a multi-linear manner geometric vectors, scalars, and other tensors to a resulting tensor. Vectors and scalars which are often used in elementary physics and engineering applications, are considered as the simplest tensors. Vectors from the dual space of the vector space, which supplies the geometric vectors, are also included as tensors.[1] Geometric in this context is chiefly meant to emphasize independence of any selection of a coordinate system.[more](https://en.wikipedia.org/wiki/Tensor)\n",
    "\n",
    "In simple terms, **Tensor** is an arrangment of number in different dimentions. For example\n",
    "<br>\n",
    "- Vectors/Arrays are 1D-Tensor.\n",
    "- Matrix with rows and coulmns are 2D-Tensor.\n",
    "- RGB image is an example of 3D-Tensor.  \n",
    "\n",
    "Similarly we can have 4D-Tensor, 5D-Tensor ..... N-D-Tensor etc.\n",
    "\n",
    "Throught the rest of our discussion we will see how we can use **Pytorch's python and C++ frontend** to create these **Tensors** and how we can playaround and work with Pythorch API's to implement a simple Neural net to most complicated ones."
   ]
  },
  {
   "cell_type": "markdown",
   "metadata": {},
   "source": [
    "## Tensor creation using Pytorch \n",
    "\n",
    "### using Python frontend:\n",
    "\n",
    "\n",
    "```python\n",
    "# First, import PyTorch\n",
    "import torch\n",
    "\n",
    "### Generate some data\n",
    "torch.manual_seed(7) # Set the random seed so things are predictable\n",
    "\n",
    "# Features are 5 random normal variables\n",
    "features = torch.randn((1, 5))\n",
    "print(features)\n",
    "\n",
    "############# OUTPUT #################\n",
    "\n",
    "tensor([[-0.1468,  0.7861,  0.9468, -1.1143,  1.6908]])\n",
    "\n",
    "```"
   ]
  },
  {
   "cell_type": "markdown",
   "metadata": {},
   "source": [
    "### using C++ frontend:\n",
    "```cpp\n",
    "#include <torch/torch.h>\n",
    "#include <ATen/Context.h>\n",
    "#include <iostream>\n",
    "\n",
    "int main()\n",
    "{\n",
    "  // Seed for Random number\n",
    "  torch::manual_seed(9);\n",
    "  torch::Tensor features = torch::rand({1, 5});\n",
    "  std::cout << \"features = \" << features << \"\\n\";\n",
    "}\n",
    "\n",
    "################ OUTPUT #######################\n",
    "\n",
    "features =  0.6558  0.3020  0.4799  0.7774  0.9180\n",
    "[ Variable[CPUFloatType]{1,5} ]\n",
    "\n",
    "```\n",
    "\n",
    "As we can see we include the headerfiles which is similar to importing a module in python.  \n",
    "**NOTE**: We are using similar API's **manual_seed() and rand()** to generate the Tensor. This is a pattern which we will see and can be used as and advantage to convert our python code to c++ or viceversa."
   ]
  },
  {
   "cell_type": "markdown",
   "metadata": {},
   "source": [
    "## Get the Shape of Tensor\n",
    "\n",
    "### Using Python:\n",
    "\n",
    "Pytoch syntax is pretty similar to Numpy.\n",
    "\n",
    "```python\n",
    "print(features.shape)\n",
    "print(features.shape[0])\n",
    "print(features.shape[1])\n",
    "\n",
    "############# OUTPUT #################\n",
    "\n",
    "torch.Size([1, 5])\n",
    "1\n",
    "5\n",
    "\n",
    "```\n",
    "\n",
    "### Using C++:\n",
    "\n",
    "```cpp\n",
    "#include <torch/torch.h>\n",
    "#include <ATen/Context.h>\n",
    "#include <iostream>\n",
    "\n",
    "int main()\n",
    "{\n",
    "  // Seed for Random number\n",
    "  torch::manual_seed(9);\n",
    "  torch::Tensor features = torch::rand({1, 5});\n",
    "  std::cout << \"features shape = \" << features.sizes() << \"\\n\";\n",
    "  std::cout << \"features shape rows = \" << features.sizes()[0] << \"\\n\";\n",
    "  std::cout << \"features shape col = \" << features.size(1) << \"\\n\";\n",
    "\n",
    "}\n",
    "\n",
    "################ OUTPUT #######################\n",
    "\n",
    "features shape = [1, 5]\n",
    "features shape rows = 1\n",
    "features shape col = 5\n",
    "\n",
    "```\n",
    "\n",
    "Notice the different ways/methods of accessing the indexes of the Tensors.\n",
    "```cpp\n",
    "  // Numpy like indexing style.\n",
    "  std::cout << \"features shape rows = \" << features.sizes()[0] << \"\\n\";\n",
    "  // C++ way of accessing the indexes.\n",
    "  std::cout << \"features shape col = \" << features.size(1) << \"\\n\";\n",
    "```\n",
    "\n",
    "In the rest of the of the discussion, we use the below version as our choice to access the shape of the **Tensor**.\n",
    "```cpp\n",
    "  std::cout << \"features shape col = \" << features.size(1) << \"\\n\";\n",
    "```\n",
    "\n",
    "\n"
   ]
  },
  {
   "cell_type": "markdown",
   "metadata": {},
   "source": [
    "## Simple Neural Net.\n",
    "\n",
    "Let us create a simple Neual Net from scratch using Pytorch. \n",
    "\n",
    "<img src=\"assets/simple_neuron.png\" width=400px>\n",
    "\n",
    "Mathematically this looks like: "
   ]
  },
  {
   "cell_type": "markdown",
   "metadata": {},
   "source": [
    "$$\n",
    "\\Large\n",
    "\\begin{align}\n",
    "y &= f(w_1 x_1 + w_2 x_2 + b) \\\\\n",
    "y &= f\\left(\\sum_i w_i x_i +b \\right)\n",
    "\\end{align}\n",
    "$$\n",
    "\n",
    "The above mathemetical formula can also be written in matrix form as follows.\n",
    "\n",
    "$$\n",
    "\\Large\n",
    "h = \\begin{bmatrix}\n",
    "x_1 \\, x_2 \\cdots  x_n\n",
    "\\end{bmatrix}\n",
    "\\cdot \n",
    "\\begin{bmatrix}\n",
    "           w_1 \\\\\n",
    "           w_2 \\\\\n",
    "           \\vdots \\\\\n",
    "           w_n\n",
    "\\end{bmatrix}\n",
    "$$"
   ]
  },
  {
   "cell_type": "markdown",
   "metadata": {},
   "source": [
    "### Using Python:"
   ]
  },
  {
   "cell_type": "code",
   "execution_count": 24,
   "metadata": {},
   "outputs": [],
   "source": [
    "# First, import PyTorch\n",
    "import torch"
   ]
  },
  {
   "cell_type": "code",
   "execution_count": 25,
   "metadata": {},
   "outputs": [],
   "source": [
    "def ActivationFunction(x):\n",
    "    \"\"\" Sigmoid activation function \n",
    "    \n",
    "        Arguments\n",
    "        ---------\n",
    "        x: torch.Tensor\n",
    "    \"\"\"\n",
    "    return 1/(1+torch.exp(-x))"
   ]
  },
  {
   "cell_type": "code",
   "execution_count": 26,
   "metadata": {},
   "outputs": [],
   "source": [
    "### Generate some data\n",
    "torch.manual_seed(7) # Set the random seed so things are predictable\n",
    "\n",
    "# Features are 5 random normal variables\n",
    "features = torch.randn((1, 5))\n",
    "# True weights for our data, random normal variables again\n",
    "weights = torch.randn_like(features)\n",
    "# and a true bias term\n",
    "bias = torch.randn((1, 1))"
   ]
  },
  {
   "cell_type": "code",
   "execution_count": 27,
   "metadata": {},
   "outputs": [
    {
     "name": "stdout",
     "output_type": "stream",
     "text": [
      "torch.Size([1, 5])\n",
      "1\n",
      "5\n"
     ]
    }
   ],
   "source": [
    "print(features.shape)\n",
    "print(features.shape[0])\n",
    "print(features.shape[1])"
   ]
  },
  {
   "cell_type": "code",
   "execution_count": 28,
   "metadata": {},
   "outputs": [
    {
     "data": {
      "text/plain": [
       "(torch.Size([1, 5]),\n",
       " torch.Size([1, 5]),\n",
       " torch.Size([1, 1]),\n",
       " tensor([[0.1595]]))"
      ]
     },
     "execution_count": 28,
     "metadata": {},
     "output_type": "execute_result"
    }
   ],
   "source": [
    "y = ActivationFunction(torch.sum(features * weights) + bias)\n",
    "features.shape, weights.shape, bias.shape, y"
   ]
  },
  {
   "cell_type": "code",
   "execution_count": 29,
   "metadata": {},
   "outputs": [
    {
     "data": {
      "text/plain": [
       "(torch.Size([1, 5]),\n",
       " torch.Size([1, 5]),\n",
       " torch.Size([1, 1]),\n",
       " tensor([[0.1595]]))"
      ]
     },
     "execution_count": 29,
     "metadata": {},
     "output_type": "execute_result"
    }
   ],
   "source": [
    "y = ActivationFunction((features*weights).sum() + bias)\n",
    "features.shape, weights.shape, bias.shape, y"
   ]
  },
  {
   "cell_type": "code",
   "execution_count": 30,
   "metadata": {},
   "outputs": [
    {
     "data": {
      "text/plain": [
       "tensor([[0.1595]])"
      ]
     },
     "execution_count": 30,
     "metadata": {},
     "output_type": "execute_result"
    }
   ],
   "source": [
    "y = ActivationFunction(torch.mm(features,weights.view(5,1)) + bias)\n",
    "y"
   ]
  },
  {
   "cell_type": "markdown",
   "metadata": {},
   "source": [
    "### Using C++:\n",
    "\n",
    "```cpp\n",
    "#include <torch/torch.h>\n",
    "#include <ATen/Context.h>\n",
    "#include <iostream>\n",
    "\n",
    "torch::Tensor ActivationFunction(const torch::Tensor &x)\n",
    "{\n",
    "  // Sigmoid function.\n",
    "  auto retVal = 1/(1+torch::exp(-x));\n",
    "  return retVal;\n",
    "}\n",
    "\n",
    "int main()\n",
    "{\n",
    "  // Seed for Random number\n",
    "  torch::manual_seed(9);\n",
    "  //at::manual_seed(9);\n",
    "\n",
    "  torch::Tensor features = torch::rand({1, 5});\n",
    "  std::cout << \"features = \" << features << \"\\n\";\n",
    "\n",
    "  auto weights = torch::randn_like(features);\n",
    "  std::cout << \"weights = \" << weights << \"\\n\";\n",
    "\n",
    "  auto bias = torch::randn({1,1});\n",
    "  std::cout << \"bias  =\" << bias << \"\\n\";\n",
    "\n",
    "  // There are multiple ways to get the same result. Here are the few of them.\n",
    "  // 1st way\n",
    "  auto y = ActivationFunction(torch::sum(features * weights) +bias);\n",
    "  std::cout << \"y using (\\\"torch::sum()\\\") = \" << y << \"\\n\";\n",
    "\n",
    "  // 2nd way\n",
    "  y = ActivationFunction((features * weights).sum() +bias);\n",
    "  std::cout << \"y using (\\\".sum()\\\") = \" << y << \"\\n\";\n",
    "\n",
    "  // 3rd and preferred way. Using Matrix multiplication.\n",
    "  y = ActivationFunction(torch::mm(features, weights.view({5,1}))+bias);\n",
    "  std::cout << \"y using (\\\"torch::mm().view()\\\") = \" << y << \"\\n\";\n",
    "\n",
    "  // Reshaping the tensor using reshape().\n",
    "  y = ActivationFunction(torch::mm(features, weights.reshape({5,1}))+bias);\n",
    "  std::cout << \"y using (\\\"torch.mm().reshape() \\\") = \" << y << \"\\n\";\n",
    "\n",
    "  // Reshaping the tensor using inplace resize_().\n",
    "  y = ActivationFunction(torch::mm(features, weights.resize_({5,1}))+bias);\n",
    "  std::cout << \"y using (\\\"torch.mm().resize_() \\\") = \" << y << \"\\n\";\n",
    "\n",
    "  std::cout << \"features shape = \" << features.sizes() << \"\\n\";\n",
    "  std::cout << \"features shape rows = \" << features.sizes()[0] << \"\\n\";\n",
    "  std::cout << \"features shape col = \" << features.size(1) << \"\\n\";\n",
    "  \n",
    "  return 0;\n",
    "}\n",
    "\n",
    "\n",
    "################ OUTPUT #######################\n",
    "\n",
    "features =  0.6558  0.3020  0.4799  0.7774  0.9180\n",
    "[ Variable[CPUFloatType]{1,5} ]\n",
    "    \n",
    "weights = -1.3316  0.4487 -0.2635  1.2342 -1.1583\n",
    "[ Variable[CPUFloatType]{1,5} ]\n",
    "    \n",
    "bias  =-1.7026\n",
    "[ Variable[CPUFloatType]{1,1} ]\n",
    "    \n",
    "y using (\"torch::sum()\") = 0.01 * 6.4732\n",
    "[ Variable[CPUFloatType]{1,1} ]\n",
    "    \n",
    "y using (\".sum()\") = 0.01 * 6.4732\n",
    "[ Variable[CPUFloatType]{1,1} ]\n",
    "    \n",
    "y using (\"torch::mm().view()\") = 0.01 * 6.4732\n",
    "[ Variable[CPUFloatType]{1,1} ]\n",
    "    \n",
    "y using (\"torch.mm().reshape() \") = 0.01 * 6.4732\n",
    "[ Variable[CPUFloatType]{1,1} ]\n",
    "    \n",
    "y using (\"torch.mm().resize_() \") = 0.01 * 6.4732\n",
    "[ Variable[CPUFloatType]{1,1} ]\n",
    "    \n",
    "features shape = [1, 5]\n",
    "features shape rows = 1\n",
    "features shape col = 5\n",
    "\n",
    "\n",
    "```"
   ]
  },
  {
   "cell_type": "markdown",
   "metadata": {},
   "source": [
    "## Stacked Neural Net.\n",
    "<img src='assets/multilayer_diagram_weights.png' width=450px>"
   ]
  },
  {
   "cell_type": "code",
   "execution_count": null,
   "metadata": {},
   "outputs": [],
   "source": []
  }
 ],
 "metadata": {
  "kernelspec": {
   "display_name": "py37_django",
   "language": "python",
   "name": "py37_django"
  },
  "language_info": {
   "codemirror_mode": {
    "name": "ipython",
    "version": 3
   },
   "file_extension": ".py",
   "mimetype": "text/x-python",
   "name": "python",
   "nbconvert_exporter": "python",
   "pygments_lexer": "ipython3",
   "version": "3.7.1"
  }
 },
 "nbformat": 4,
 "nbformat_minor": 2
}
